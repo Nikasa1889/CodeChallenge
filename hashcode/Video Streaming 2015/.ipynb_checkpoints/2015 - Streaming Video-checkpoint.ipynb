{
 "cells": [
  {
   "cell_type": "code",
   "execution_count": 13,
   "metadata": {},
   "outputs": [],
   "source": [
    "# Input\n",
    "import numpy as np\n",
    "def map2int(ls):\n",
    "    return [int(st) for st in ls]\n",
    "\n",
    "def read_int_list(f):\n",
    "    return map2int(f.readline().split(' '))\n",
    "\n",
    "MAX_LATENCY = 10000\n",
    "with open('example.in') as f:\n",
    "    nV, nENP, nREQ, nCAH, max_cap = read_int_list(f)\n",
    "    ReqCah = np.zeros((nREQ, nCAH + 1), dtype=float)\n",
    "    EnpCah = np.full((nENP, nCAH + 1), MAX_LATENCY, dtype=float)\n",
    "    ReqVid = np.zeros(nREQ, dtype=int)\n",
    "    ReqSize = np.zeros(nREQ)\n",
    "    i_datacenter = nCAH\n",
    "    total_req = 0\n",
    "    VidSize = np.asarray(read_int_list(f))\n",
    "    \n",
    "    for i_enp in range(nENP):\n",
    "        lag, n_cah = read_int_list(f)\n",
    "        EnpCah[i_enp, i_datacenter] = lag\n",
    "        for _ in range(n_cah):\n",
    "            i_cah, cah_lag = read_int_list(f)\n",
    "            EnpCah[i_enp, i_cah] = cah_lag\n",
    "    \n",
    "    for i_req in range(nREQ):\n",
    "        i_vid, i_enp, times = read_int_list(f)\n",
    "        total_req += times\n",
    "        ReqVid[i_req] = i_vid\n",
    "        ReqSize[i_req] = VidSize[i_vid]\n",
    "        ReqCah[i_req] = EnpCah[i_enp] * times\n",
    "        "
   ]
  },
  {
   "cell_type": "code",
   "execution_count": 28,
   "metadata": {},
   "outputs": [],
   "source": [
    "ReqSol = np.asarray([1, 3, 3, 2])\n",
    "\n",
    "#Verify the result\n",
    "CahCap = np.full(nCAH, max_cap)\n",
    "for i_req, cah in enumerate(ReqSol):\n",
    "    if cah == i_datacenter: continue\n",
    "    req_sz = ReqSize[i_req]\n",
    "    CahCap[cah] -= req_sz\n",
    "    assert CahCap[cah] >=0"
   ]
  },
  {
   "cell_type": "code",
   "execution_count": 31,
   "metadata": {},
   "outputs": [
    {
     "data": {
      "text/plain": [
       "462.5"
      ]
     },
     "execution_count": 31,
     "metadata": {},
     "output_type": "execute_result"
    }
   ],
   "source": [
    "# Evaluate Result\n",
    "lag = ReqCah[range(nREQ), ReqSol]\n",
    "lag_no_cah = ReqCah[:, i_datacenter]\n",
    "gain = sum(lag_no_cah - lag)\n",
    "avg_gain = gain / total_req\n",
    "avg_gain"
   ]
  },
  {
   "cell_type": "code",
   "execution_count": 48,
   "metadata": {},
   "outputs": [],
   "source": [
    "# Convert to submittable output\n",
    "CahVids = [set() for i in range(nCAH)]\n",
    "for i_req, cah in enumerate(ReqSol):\n",
    "    if cah == i_datacenter: continue\n",
    "    vid = ReqVid[i_req]\n",
    "    CahVids[cah].add(vid)"
   ]
  },
  {
   "cell_type": "code",
   "execution_count": 49,
   "metadata": {},
   "outputs": [
    {
     "data": {
      "text/plain": [
       "[set(), {3}, {1}]"
      ]
     },
     "execution_count": 49,
     "metadata": {},
     "output_type": "execute_result"
    }
   ],
   "source": [
    "CahVids"
   ]
  }
 ],
 "metadata": {
  "kernelspec": {
   "display_name": "Python 3",
   "language": "python",
   "name": "python3"
  },
  "language_info": {
   "codemirror_mode": {
    "name": "ipython",
    "version": 3
   },
   "file_extension": ".py",
   "mimetype": "text/x-python",
   "name": "python",
   "nbconvert_exporter": "python",
   "pygments_lexer": "ipython3",
   "version": "3.6.3"
  }
 },
 "nbformat": 4,
 "nbformat_minor": 2
}
