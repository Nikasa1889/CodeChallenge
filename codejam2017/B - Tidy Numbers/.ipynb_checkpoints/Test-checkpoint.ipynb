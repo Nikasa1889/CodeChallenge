{
 "cells": [
  {
   "cell_type": "code",
   "execution_count": 6,
   "metadata": {},
   "outputs": [
    {
     "name": "stdout",
     "output_type": "stream",
     "text": [
      "1\n",
      "1000\n",
      "Case #0: 999\n"
     ]
    }
   ],
   "source": [
    "T = int(input())\n",
    "for i_case in range(1, T+1):\n",
    "    N = input()\n",
    "    digits = [int(c) for c in N]\n",
    "    for i in range(1, len(digits)):\n",
    "        if (digits[i] < digits[i-1]):\n",
    "            j = i\n",
    "            while (digits[j] < digits[j-1]) and (j > 0):\n",
    "                digits[j-1] -= 1\n",
    "                j -= 1\n",
    "            for j in range(j+1, len(digits)):\n",
    "                digits[j] = 9\n",
    "    while digits[0] == 0:\n",
    "        digits.pop(0)\n",
    "    result = ''.join(str(d) for d in digits)\n",
    "    print (f'Case #{i_case}: {result}')"
   ]
  },
  {
   "cell_type": "code",
   "execution_count": 2,
   "metadata": {},
   "outputs": [
    {
     "data": {
      "text/plain": [
       "'123'"
      ]
     },
     "execution_count": 2,
     "metadata": {},
     "output_type": "execute_result"
    }
   ],
   "source": [
    "a = [1, 2, 3]\n",
    "''.join(str(i) for i in a)"
   ]
  },
  {
   "cell_type": "code",
   "execution_count": null,
   "metadata": {},
   "outputs": [],
   "source": []
  }
 ],
 "metadata": {
  "kernelspec": {
   "display_name": "Python 3",
   "language": "python",
   "name": "python3"
  },
  "language_info": {
   "codemirror_mode": {
    "name": "ipython",
    "version": 3
   },
   "file_extension": ".py",
   "mimetype": "text/x-python",
   "name": "python",
   "nbconvert_exporter": "python",
   "pygments_lexer": "ipython3",
   "version": "3.6.3"
  }
 },
 "nbformat": 4,
 "nbformat_minor": 2
}
