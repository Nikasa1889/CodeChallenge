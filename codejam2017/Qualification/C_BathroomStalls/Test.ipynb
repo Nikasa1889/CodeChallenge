{
 "cells": [
  {
   "cell_type": "code",
   "execution_count": 2,
   "metadata": {},
   "outputs": [
    {
     "name": "stdout",
     "output_type": "stream",
     "text": [
      "5\n",
      "4 2\n",
      "Case 1: 1 0\n",
      "5 2\n",
      "Case 2: 1 0\n",
      "6 2\n",
      "Case 3: 1 1\n",
      "1000 1000\n",
      "Case 4: 0 0\n",
      "1000 1\n",
      "Case 5: 500 499\n"
     ]
    }
   ],
   "source": [
    "from math import floor, ceil\n",
    "\n",
    "T = int(input())\n",
    "def answer(length):\n",
    "    return round(length/2), floor(length/2)\n",
    "for i_case in range(1, T+1):\n",
    "    N, K = [int(st) for st in input().split()]\n",
    "    high = 1\n",
    "    while high <= K:\n",
    "        high *= 2\n",
    "    low = high >> 1\n",
    "    n_segments = low\n",
    "    n_occupied = low - 1\n",
    "    n_free = N - n_occupied\n",
    "    n_long_segs = n_free % n_segments\n",
    "    len_short = floor(n_free / n_segments) - 1 # the last\n",
    "    len_long = len_short + 1\n",
    "    extra = K - low + 1\n",
    "    if extra <= n_long_segs:\n",
    "        print(f'Case {i_case}: {ceil(len_long/2)} {floor(len_long/2)}')\n",
    "    else:\n",
    "        print(f'Case {i_case}: {ceil(len_short/2)} {floor(len_short/2)}')"
   ]
  },
  {
   "cell_type": "code",
   "execution_count": null,
   "metadata": {},
   "outputs": [],
   "source": [
    "7/3"
   ]
  },
  {
   "cell_type": "code",
   "execution_count": null,
   "metadata": {},
   "outputs": [],
   "source": [
    "import math\n",
    "math.floor(4.1)"
   ]
  },
  {
   "cell_type": "code",
   "execution_count": null,
   "metadata": {},
   "outputs": [],
   "source": []
  }
 ],
 "metadata": {
  "kernelspec": {
   "display_name": "Python 3",
   "language": "python",
   "name": "python3"
  },
  "language_info": {
   "codemirror_mode": {
    "name": "ipython",
    "version": 3
   },
   "file_extension": ".py",
   "mimetype": "text/x-python",
   "name": "python",
   "nbconvert_exporter": "python",
   "pygments_lexer": "ipython3",
   "version": "3.6.3"
  }
 },
 "nbformat": 4,
 "nbformat_minor": 2
}
